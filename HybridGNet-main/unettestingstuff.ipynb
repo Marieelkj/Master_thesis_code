{
 "cells": [
  {
   "cell_type": "code",
   "execution_count": 1,
   "metadata": {},
   "outputs": [],
   "source": [
    "import os\n",
    "import torch\n",
    "import torch.nn.functional as F\n",
    "import argparse\n",
    "import time\n",
    "\n",
    "from torch.optim.lr_scheduler import StepLR\n",
    "from torch.utils.tensorboard import SummaryWriter\n",
    "from torchvision import transforms\n",
    "\n",
    "import numpy as np\n",
    "\n",
    "# from utils.dataLoader import LandmarksDataset, ToTensorSegLH, Rescale, RandomScale, AugColor, Rotate, ToTensorSeg1\n",
    "\n",
    "from models.unet import UNet, DiceLoss\n",
    "from torch.nn import CrossEntropyLoss\n",
    "\n",
    "from medpy.metric.binary import dc"
   ]
  },
  {
   "cell_type": "code",
   "execution_count": 2,
   "metadata": {},
   "outputs": [],
   "source": [
    "\n",
    "from utils.graphDataLoader import LandmarksDataset, ToTensorSegHeart\n"
   ]
  },
  {
   "cell_type": "code",
   "execution_count": 3,
   "metadata": {},
   "outputs": [
    {
     "name": "stdout",
     "output_type": "stream",
     "text": [
      "Total of landmarks: 174\n"
     ]
    }
   ],
   "source": [
    "# train_path = \"../../generateData/data/noisytrain\"\n",
    "# val_path = \"../../generateData/data/noisyval\"\n",
    "\n",
    "train_path = \"Datasets/JSRT/Train\"\n",
    "val_path = \"Datasets/JSRT/Val\" \n",
    "img_path = os.path.join(train_path, 'Images')\n",
    "label_path = os.path.join(train_path, 'landmarks')\n",
    "\n",
    "train_dataset = LandmarksDataset(img_path=img_path,\n",
    "                                    label_path=label_path,\n",
    "                                    transform = transforms.Compose([\n",
    "                                                # RandomScale(),\n",
    "                                                # Rotate(3),\n",
    "                                                # AugColor(0.40),\n",
    "                                                ToTensorSegHeart()])\n",
    "                                    )"
   ]
  },
  {
   "cell_type": "code",
   "execution_count": 5,
   "metadata": {},
   "outputs": [
    {
     "name": "stdout",
     "output_type": "stream",
     "text": [
      "torch.Size([1, 1024, 1024])\n",
      "torch.float32\n"
     ]
    },
    {
     "data": {
      "image/png": "[encoded data removed]",
      "text/plain": [
       "<Figure size 640x480 with 1 Axes>"
      ]
     },
     "metadata": {},
     "output_type": "display_data"
    },
    {
     "name": "stdout",
     "output_type": "stream",
     "text": [
      "Min: tensor(0.)\n",
      "Max: tensor(2.)\n"
     ]
    }
   ],
   "source": [
    "train_loader = torch.utils.data.DataLoader(train_dataset, batch_size = 10, shuffle = True, num_workers = 0)\n",
    "image = train_dataset[0]['seg']\n",
    "print(image.shape)\n",
    "print(image.dtype)\n",
    "import matplotlib.pyplot as plt \n",
    "import numpy as np\n",
    "\n",
    "\n",
    "plt.imshow(image[0])\n",
    "plt.axis('off')\n",
    "plt.show()\n",
    "print('Min:', image.min())\n",
    "print('Max:', image.max())"
   ]
  },
  {
   "cell_type": "code",
   "execution_count": 5,
   "metadata": {},
   "outputs": [
    {
     "name": "stdout",
     "output_type": "stream",
     "text": [
      "Total of landmarks: 70\n"
     ]
    }
   ],
   "source": [
    "from utils.smileyDataLoader import LandmarksDataset, ToTensorSeg, ToTensorSegLH, Rescale, RandomScale, AugColor, Rotate, ToTensorSeg1, ToTensor\n",
    "\n",
    "train_path = \"../../generateData/unetdata/noisytrain\"\n",
    "val_path = \"../../generateData/unetdata/noisyval\"\n",
    "\n",
    "\n",
    "img_path = os.path.join(train_path, 'Images')\n",
    "label_path = os.path.join(train_path, 'landmarks')\n",
    "# train_dataset = LandmarksDataset(img_path=img_path,\n",
    "#                                     label_path=label_path,\n",
    "#                                     transform = transforms.Compose([\n",
    "#                                                 #RandomScale(),\n",
    "#                                                 Rotate(3),\n",
    "#                                                 #AugColor(0),\n",
    "#                                                 # Rescale([320,256]),\n",
    "#                                                 ToTensorSegLH()])\n",
    "#                                     )\n",
    "\n",
    "train_dataset = LandmarksDataset(img_path=img_path,\n",
    "                                    label_path=label_path,\n",
    "                                    transform = transforms.Compose([\n",
    "                                                RandomScale(),\n",
    "                                                Rotate(3),\n",
    "                                                AugColor(0.40),\n",
    "                                                ToTensorSegLH()])\n",
    "                                    )\n",
    "train_loader = torch.utils.data.DataLoader(train_dataset, batch_size = 10, shuffle = True, num_workers = 0)\n"
   ]
  },
  {
   "cell_type": "code",
   "execution_count": 6,
   "metadata": {},
   "outputs": [
    {
     "name": "stdout",
     "output_type": "stream",
     "text": [
      "torch.Size([320, 256])\n"
     ]
    },
    {
     "data": {
      "image/png": "[encoded data removed]",
      "text/plain": [
       "<Figure size 640x480 with 1 Axes>"
      ]
     },
     "metadata": {},
     "output_type": "display_data"
    }
   ],
   "source": [
    "import matplotlib.pyplot as plt \n",
    "import numpy as np\n",
    "\n",
    "image = train_dataset[0]['seg']\n",
    "print(image.shape)\n",
    "\n",
    "plt.imshow(image, cmap='gray')\n",
    "plt.axis('off')\n",
    "plt.show()\n"
   ]
  },
  {
   "cell_type": "code",
   "execution_count": null,
   "metadata": {},
   "outputs": [],
   "source": []
  },
  {
   "cell_type": "code",
   "execution_count": 11,
   "metadata": {},
   "outputs": [
    {
     "name": "stdout",
     "output_type": "stream",
     "text": [
      "Total of landmarks: 70\n",
      "torch.Size([1, 320, 256])\n",
      "torch.float32\n",
      "torch.Size([24, 2])\n"
     ]
    },
    {
     "data": {
      "image/png": "[encoded data removed]",
      "text/plain": [
       "<Figure size 640x480 with 1 Axes>"
      ]
     },
     "metadata": {},
     "output_type": "display_data"
    },
    {
     "name": "stdout",
     "output_type": "stream",
     "text": [
      "Min: tensor(0.)\n",
      "Max: tensor(2.)\n"
     ]
    }
   ],
   "source": [
    "from utils.smileyGraphDataLoaderMoreEyes import LandmarksDataset, ToTensorSegHeart\n",
    "\n",
    "train_path = \"../../generateData/Eyedata/noisytrain\"\n",
    "val_path = \"../../generateData/Eyedata/noisyval\"\n",
    "\n",
    "\n",
    "img_path = os.path.join(train_path, 'Images')\n",
    "label_path = os.path.join(train_path, 'landmarks')\n",
    "train_dataset = LandmarksDataset(img_path=img_path,\n",
    "                                 label_path=label_path,\n",
    "                                 transform = transforms.Compose([\n",
    "                                             ToTensorSegHeart()])\n",
    "                                 )\n",
    "\n",
    "\n",
    "train_loader = torch.utils.data.DataLoader(train_dataset, batch_size = 10, shuffle = True, num_workers = 0)\n",
    "image = train_dataset[0]['seg']\n",
    "print(image.shape)\n",
    "print(image.dtype)\n",
    "import matplotlib.pyplot as plt \n",
    "import numpy as np\n",
    "landmark = train_dataset[0]['landmarks']\n",
    "print(landmark.shape)\n",
    "\n",
    "plt.imshow(image[0], cmap='gray')\n",
    "plt.axis('off')\n",
    "plt.show()\n",
    "print('Min:', image.min())\n",
    "print('Max:', image.max())"
   ]
  },
  {
   "cell_type": "code",
   "execution_count": null,
   "metadata": {},
   "outputs": [],
   "source": []
  }
 ],
 "metadata": {
  "kernelspec": {
   "display_name": "myenv",
   "language": "python",
   "name": "python3"
  },
  "language_info": {
   "codemirror_mode": {
    "name": "ipython",
    "version": 3
   },
   "file_extension": ".py",
   "mimetype": "text/x-python",
   "name": "python",
   "nbconvert_exporter": "python",
   "pygments_lexer": "ipython3",
   "version": "3.9.19"
  }
 },
 "nbformat": 4,
 "nbformat_minor": 2
}
