{
 "cells": [
  {
   "cell_type": "code",
   "execution_count": 1,
   "metadata": {},
   "outputs": [],
   "source": [
    "import numpy as np\n",
    "import matplotlib.pyplot as plt\n",
    "import cv2 \n",
    "import random\n",
    "import math\n",
    "from datetime import datetime"
   ]
  },
  {
   "cell_type": "code",
   "execution_count": 30,
   "metadata": {},
   "outputs": [],
   "source": [
    "    # add landmarks to eyes \n",
    "    # imageLeftEye = cv2.circle(imageMouth, center=(int(center[0] - size * 0.15), int(center[1] - size * 0.1)), radius=5, color=(0, 0, 255), thickness=-1)\n",
    "    # imageRightEye = cv2.circle(imageLeftEye, center=(int(center[0] + size * 0.15), int(center[1] - size * 0.1)), radius=5, color=(0, 0, 255), thickness=-1)\n",
    "    # imageNose = cv2.circle(imageRightEye, center=(int(center[0]), int(center[1])), radius=5, color=(0, 0, 255), thickness=-1)\n",
    "    \n",
    "    # perimeter_points = []\n",
    "    # print(angle)\n",
    "    # if angle == 0:\n",
    "    #   for i in range(0, 190, 30):\n",
    "    #     x = int(mouthCenter[0] + axis1 * np.cos(np.deg2rad(i)))\n",
    "    #     y = int(mouthCenter[1] + axis2 * np.sin(np.deg2rad(i)))\n",
    "    #     perimeter_points.append((x, y))\n",
    "    # else:\n",
    "    #   for i in range (180, 370, 30):\n",
    "    #     x = int(mouthCenter[0] + axis1 * np.cos(np.deg2rad(i)))\n",
    "    #     y = int(mouthCenter[1] + axis2 * np.sin(np.deg2rad(i)))\n",
    "    #     perimeter_points.append((x, y))\n",
    "    \n",
    "    # #draw the mouth\n",
    "    # for i, point in enumerate(perimeter_points):\n",
    "    #   imageMouth = cv2.circle(imageMouth, point, 5, (0, 0, 255), -1)\n",
    "      \n",
    "    # imageMouth = cv2.ellipse(img = imageNose, center = mouthCenter, \n",
    "    #                          axes = (axis1, axis2), angle = angle, startAngle = 0, \n",
    "    #                          endAngle = 180, color = (0, 0, 255), thickness = 5)"
   ]
  },
  {
   "cell_type": "code",
   "execution_count": 31,
   "metadata": {},
   "outputs": [],
   "source": [
    "def add_landmarks_for_face(image, center, mouthCenter, axis1, axis2, angle, size):\n",
    "    # add landmarks to eyes \n",
    "    # Calculate the coordinates of the left and right eye centers\n",
    "    left_eye_center = (int(center[0] - size * 0.15), int(center[1] - size * 0.1))\n",
    "    right_eye_center = (int(center[0] + size * 0.15), int(center[1] - size * 0.1))\n",
    "\n",
    "    # imageLeftEye = cv2.circle(image, center=(int(center[0] - size * 0.15), int(center[1] - size * 0.1)), radius=5, color=(0, 0, 255), thickness=-1)\n",
    "    # imageRightEye = cv2.circle(imageLeftEye, center=(int(center[0] + size * 0.15), int(center[1] - size * 0.1)), radius=5, color=(0, 0, 255), thickness=-1)\n",
    "    # imageNose = cv2.circle(imageRightEye, center=(int(center[0]), int(center[1])), radius=5, color=(0, 0, 255), thickness=-1)\n",
    "    # imageLeftEye = cv2.circle(image, center=left_eye_center, radius=5, color=(0, 0, 255), thickness=-1)\n",
    "    # imageRightEye = cv2.circle(imageLeftEye, center=right_eye_center, radius=5, color=(0, 0, 255), thickness=-1)\n",
    "\n",
    "\n",
    "    perimeter_points = []\n",
    "    if angle == 0: # happy\n",
    "      for i in range(0, 170, 30): # Half of the ellipse\n",
    "        x = int(mouthCenter[0] + axis1 * np.cos(np.deg2rad(i)))\n",
    "        y = int(mouthCenter[1] + axis2 * np.sin(np.deg2rad(i)))\n",
    "        perimeter_points.append((x, y)) # curve points\n",
    "      num_line_points = len(perimeter_points) # so flat part of the ellipse is same len as curved\n",
    "      line_points = [(x, mouthCenter[1]) for x in range(mouthCenter[0] - axis1, mouthCenter[0] + axis1, int((2 * axis1)/math.floor(num_line_points)))]\n",
    "      if (len(line_points) != num_line_points): ## sometimes it adds an extra point this just removes that point, its always the last one\n",
    "        line_points.pop()\n",
    "      mouth_points = perimeter_points + line_points \n",
    "    else:\n",
    "      for i in range (180, 350, 30): # sad and other half of the ellipse\n",
    "        x = int(mouthCenter[0] + axis1 * np.cos(np.deg2rad(i)))\n",
    "        y = int(mouthCenter[1] + axis2 * np.sin(np.deg2rad(i)))\n",
    "        perimeter_points.append((x, y))\n",
    "      num_line_points = len(perimeter_points) # so flat part of the ellipse is same len as curved\n",
    "      line_points = [(x, mouthCenter[1]) for x in range(mouthCenter[0] + axis1, mouthCenter[0] - axis1, -int((2 * axis1) / math.floor(num_line_points)))]\n",
    "      if (len(line_points) != num_line_points): ## sometimes it adds an extra point this just removes that point, its always the last one\n",
    "        line_points.pop()\n",
    "      mouth_points = line_points + perimeter_points \n",
    "\n",
    "    # draw the mouth\n",
    "    # for i, point in enumerate(mouth_points):\n",
    "    #   cv2.putText(imageRightEye, str(i), (point[0] + 5, point[1] + 5), cv2.FONT_HERSHEY_SIMPLEX, 0.5, (0, 0, 255), 1) # for debugging to see the order of points made \n",
    "\n",
    "    #   imageMouth = cv2.circle(imageRightEye, point, 5, (0, 0, 255), -1)\n",
    "    landmarks = np.array([left_eye_center]+ [right_eye_center]+ mouth_points)\n",
    "\n",
    "    \n",
    "    return landmarks"
   ]
  },
  {
   "cell_type": "code",
   "execution_count": 32,
   "metadata": {},
   "outputs": [],
   "source": [
    "def create_mask(lefteye, righteye, mouth, size):\n",
    "    # Create a blank mask with zeros\n",
    "    mask = np.zeros((size, size), dtype=np.uint8)\n",
    "\n",
    "\n",
    "    # Draw circles for the left and right eyes on the mask\n",
    "    cv2.circle(mask, center=lefteye, radius=25, color=1, thickness=-1)\n",
    "    cv2.circle(mask, center=righteye, radius=25, color=1, thickness=-1)\n",
    "    cv2.fillPoly(mask, [mouth], 2)\n",
    "\n",
    "    return mask\n"
   ]
  },
  {
   "cell_type": "code",
   "execution_count": 38,
   "metadata": {},
   "outputs": [],
   "source": [
    "size = 320\n",
    "\n",
    "def generate_smiley_face(size, num_faces):\n",
    "  faces = []\n",
    "\n",
    "  mouthCenter = (int(size // 2), int(size // 2 + size * 0.1))\n",
    "  for i in range(num_faces):\n",
    "    center = (size // 2, size // 2)\n",
    "    angle = random.choice([0 , 180]) \n",
    "    if angle == 180:\n",
    "      mouthCenter = (int(center[0]), int(center[1] + size * 0.15))\n",
    "    else:\n",
    "      mouthCenter = (int(center[0]), int(center[1] + size * 0.1))\n",
    "    axis1 = random.choice([70, 80, 90])\n",
    "    axis2 = random.choice([25, 35, 40 ])\n",
    "    image = np.zeros((size, size, 3), dtype=np.uint8)\n",
    "    imageCircle = cv2.circle(image, center, size // 3, (255, 255, 255), -1)\n",
    "    imageLeftEye = cv2.circle(imageCircle, center=(int(center[0] - size * 0.15), int(center[1] - size * 0.1)), radius=25, color=(125, 125, 125), thickness=-1)\n",
    "    imageRightEye = cv2.circle(imageLeftEye, center=(int(center[0] + size * 0.15), int(center[1] - size * 0.1)), radius=25, color=(125, 125, 125), thickness=-1)\n",
    "    # imageNose = cv2.circle(imageRightEye, center=(int(center[0]), int(center[1])), radius=10, color=(125, 125, 125), thickness=-1)\n",
    "    \n",
    "    imageMouth = cv2.ellipse(img = imageRightEye, center = mouthCenter, \n",
    "                             axes = (axis1, axis2), angle = angle, startAngle = 0, \n",
    "                             endAngle = 180, color = (125, 125, 125), thickness = -1)\n",
    "    \n",
    "\n",
    "\n",
    "    # image_with_landmarks, landmarks = add_landmarks_for_face(imageMouth, center, mouthCenter, axis1, axis2, angle, size)\n",
    "    landmarks = add_landmarks_for_face(imageMouth, center, mouthCenter, axis1, axis2, angle, size)\n",
    "    np.save(f\"./data/landmarks/smiley_face{i}.npy\", landmarks)\n",
    "    noisy_image = cv2.GaussianBlur(imageMouth, (5, 5), 0)\n",
    "    cv2.imwrite(f\"./data/noisy_face/smiley_face{i}.png\", noisy_image)\n",
    "\n",
    "    # print(landmarks)\n",
    "    faces.append(imageMouth)\n",
    "    cv2.imwrite(f\"./data/smiley_faces/smiley_face{i}.png\", imageMouth)\n",
    "    # faces_with_points.append(image_with_landmarks)\n",
    "    # print(image_with_landmarks.shape)\n",
    "    mask = create_mask(landmarks[0], landmarks[1], landmarks[2:], size)\n",
    "    np.save(f\"./data/masks/smiley_face{i}.npy\", mask)\n",
    "    cv2.imwrite(f\"./data/masksPng/smiley_face{i}.png\", mask)\n",
    "\n",
    "  return faces\n",
    "\n",
    "\n",
    "faces = generate_smiley_face(size, 100)\n",
    "\n",
    "\n",
    "\n",
    "# plt.figure(figsize=(10, 10))\n",
    "# for i, face in enumerate(faces_no_points):\n",
    "#   plt.subplot(3, 3, i + 1)\n",
    "#   plt.imshow(face)\n",
    "#   plt.axis('off')\n",
    "#   plt.tight_layout()\n",
    "\n",
    "# plt.show()\n",
    "\n"
   ]
  },
  {
   "cell_type": "code",
   "execution_count": 121,
   "metadata": {},
   "outputs": [],
   "source": [
    "# plt.figure(figsize=(10, 10))\n",
    "# for i, face in enumerate(faces):\n",
    "#   plt.subplot(3, 3, i + 1)\n",
    "#   plt.imshow(face)\n",
    "#   plt.axis('off')\n",
    "#   plt.tight_layout()\n",
    "\n",
    "# plt.show()\n"
   ]
  },
  {
   "cell_type": "code",
   "execution_count": 39,
   "metadata": {},
   "outputs": [
    {
     "data": {
      "image/png": "[encoded data removed]",
      "text/plain": [
       "<Figure size 640x480 with 1 Axes>"
      ]
     },
     "metadata": {},
     "output_type": "display_data"
    }
   ],
   "source": [
    "mask = np.load(f\"./data/masks/smiley_face0.npy\")\n",
    "\n",
    "plt.imshow(mask)\n",
    "plt.axis('off')\n",
    "plt.show()"
   ]
  },
  {
   "cell_type": "code",
   "execution_count": 40,
   "metadata": {},
   "outputs": [
    {
     "name": "stdout",
     "output_type": "stream",
     "text": [
      "(320, 256, 3)\n"
     ]
    }
   ],
   "source": [
    "image = cv2.imread(f\"./data/train/Images/smiley_face1.png\")\n",
    "imnp = np.array(image)\n",
    "print(imnp.shape)\n",
    "\n"
   ]
  },
  {
   "cell_type": "code",
   "execution_count": 41,
   "metadata": {},
   "outputs": [
    {
     "data": {
      "image/png": "[encoded data removed]",
      "text/plain": [
       "<Figure size 640x480 with 1 Axes>"
      ]
     },
     "metadata": {},
     "output_type": "display_data"
    }
   ],
   "source": [
    "from skimage import io, transform\n",
    "import numpy as np\n",
    "\n",
    "import matplotlib.pyplot as plt \n",
    "\n",
    "image = io.imread(f\"./data/train/Images/smiley_face1.png\").astype('float') / 255.0\n",
    "image1 = io.imread(f\"./data/train/Images/smiley_face1.png\",as_gray= True ).astype('float') / 255.0\n",
    "\n",
    "image1 = np.expand_dims(image1, axis=2)\n",
    "\n",
    "\n",
    "plt.imshow(image1)\n",
    "plt.axis('off')\n",
    "plt.show()\n"
   ]
  },
  {
   "cell_type": "code",
   "execution_count": 45,
   "metadata": {},
   "outputs": [
    {
     "data": {
      "image/png": "[encoded data removed]",
      "text/plain": [
       "<Figure size 640x480 with 1 Axes>"
      ]
     },
     "metadata": {},
     "output_type": "display_data"
    }
   ],
   "source": [
    "image1 = io.imread(f\"./data/maskTrain/Images/smiley_face1.png\",as_gray= True ).astype('float') / 255.0\n",
    "image1 = np.expand_dims(image1, axis=2)\n",
    "\n",
    "plt.imshow(image1)\n",
    "plt.axis('off')\n",
    "plt.show()\n"
   ]
  },
  {
   "cell_type": "code",
   "execution_count": 2,
   "metadata": {},
   "outputs": [
    {
     "ename": "IndentationError",
     "evalue": "unexpected indent (2038175498.py, line 2)",
     "output_type": "error",
     "traceback": [
      "\u001b[1;36m  Cell \u001b[1;32mIn[2], line 2\u001b[1;36m\u001b[0m\n\u001b[1;33m    image = io.imread(img_name, as_gray= True).astype('float')\u001b[0m\n\u001b[1;37m    ^\u001b[0m\n\u001b[1;31mIndentationError\u001b[0m\u001b[1;31m:\u001b[0m unexpected indent\n"
     ]
    }
   ],
   "source": [
    "import numpy as np\n",
    "image2 = io.imread(f\"../HybridGNet-main/HybridGNet-main/Datasets/JSRT/Train/Images/JPCLN002.png\").astype('float') / 255.0\n",
    "image2 = np.expand_dims(image2, axis=2)\n",
    "\n",
    "plt.imshow(image2)\n",
    "plt.axis('off')\n",
    "plt.show()"
   ]
  },
  {
   "cell_type": "code",
   "execution_count": 94,
   "metadata": {},
   "outputs": [
    {
     "ename": "FileNotFoundError",
     "evalue": "[Errno 2] No such file or directory: './data/train/landmarks/smiley_face0.npy'",
     "output_type": "error",
     "traceback": [
      "\u001b[0;31m---------------------------------------------------------------------------\u001b[0m",
      "\u001b[0;31mFileNotFoundError\u001b[0m                         Traceback (most recent call last)",
      "Cell \u001b[0;32mIn[94], line 1\u001b[0m\n\u001b[0;32m----> 1\u001b[0m landmarks \u001b[38;5;241m=\u001b[39m \u001b[43mnp\u001b[49m\u001b[38;5;241;43m.\u001b[39;49m\u001b[43mload\u001b[49m\u001b[43m(\u001b[49m\u001b[38;5;124;43mf\u001b[39;49m\u001b[38;5;124;43m\"\u001b[39;49m\u001b[38;5;124;43m./data/train/landmarks/smiley_face0.npy\u001b[39;49m\u001b[38;5;124;43m\"\u001b[39;49m\u001b[43m)\u001b[49m\n\u001b[1;32m      2\u001b[0m \u001b[38;5;28mprint\u001b[39m(\u001b[38;5;28mlen\u001b[39m(landmarks))\n\u001b[1;32m      3\u001b[0m \u001b[38;5;28mprint\u001b[39m(landmarks\u001b[38;5;241m.\u001b[39mshape)\n",
      "File \u001b[0;32m/usr/local/lib/python3.10/site-packages/numpy/lib/npyio.py:390\u001b[0m, in \u001b[0;36mload\u001b[0;34m(file, mmap_mode, allow_pickle, fix_imports, encoding)\u001b[0m\n\u001b[1;32m    388\u001b[0m     own_fid \u001b[38;5;241m=\u001b[39m \u001b[38;5;28;01mFalse\u001b[39;00m\n\u001b[1;32m    389\u001b[0m \u001b[38;5;28;01melse\u001b[39;00m:\n\u001b[0;32m--> 390\u001b[0m     fid \u001b[38;5;241m=\u001b[39m stack\u001b[38;5;241m.\u001b[39menter_context(\u001b[38;5;28;43mopen\u001b[39;49m\u001b[43m(\u001b[49m\u001b[43mos_fspath\u001b[49m\u001b[43m(\u001b[49m\u001b[43mfile\u001b[49m\u001b[43m)\u001b[49m\u001b[43m,\u001b[49m\u001b[43m \u001b[49m\u001b[38;5;124;43m\"\u001b[39;49m\u001b[38;5;124;43mrb\u001b[39;49m\u001b[38;5;124;43m\"\u001b[39;49m\u001b[43m)\u001b[49m)\n\u001b[1;32m    391\u001b[0m     own_fid \u001b[38;5;241m=\u001b[39m \u001b[38;5;28;01mTrue\u001b[39;00m\n\u001b[1;32m    393\u001b[0m \u001b[38;5;66;03m# Code to distinguish from NumPy binary files and pickles.\u001b[39;00m\n",
      "\u001b[0;31mFileNotFoundError\u001b[0m: [Errno 2] No such file or directory: './data/train/landmarks/smiley_face0.npy'"
     ]
    }
   ],
   "source": [
    "landmarks = np.load(f\"./data/train/landmarks/smiley_face0.npy\")\n",
    "print(len(landmarks))\n",
    "print(landmarks.shape)\n",
    "print(landmarks)\n",
    "landmarks = landmarks.astype('float').reshape(-1, 2)\n",
    "print(landmarks.shape)\n",
    "print(landmarks)\n"
   ]
  },
  {
   "cell_type": "code",
   "execution_count": 51,
   "metadata": {},
   "outputs": [
    {
     "name": "stdout",
     "output_type": "stream",
     "text": [
      "332\n",
      "(332,)\n",
      "[364.      97.     331.952  108.     299.905  133.095  267.857  153.143\n",
      " 249.     185.19   233.762  217.238  226.     249.286  222.     281.333\n",
      " 215.619  313.381  206.571  345.429  197.     377.476  193.     409.524\n",
      " 184.429  441.571  179.     473.619  175.     505.667  173.     537.714\n",
      " 167.238  569.762  160.     601.81   156.     633.857  158.     665.905\n",
      " 158.     697.952  157.     730.     175.5    698.5    199.     671.\n",
      " 230.5    660.     262.     657.     293.5    654.     325.     659.\n",
      " 356.5    670.5    388.     685.     365.     642.333  362.     599.667\n",
      " 367.     557.     382.667  514.333  385.     471.667  395.     429.\n",
      " 412.667  386.333  435.     343.667  449.     301.     454.     258.333\n",
      " 459.     215.667  454.     173.     440.     130.333  406.667   97.\n",
      " 665.      86.     698.429  103.429  731.857  127.857  761.     161.286\n",
      " 781.     194.714  790.     228.143  801.571  261.571  811.     295.\n",
      " 822.429  328.429  829.     361.857  836.286  395.286  842.     428.714\n",
      " 849.     462.143  856.     495.571  863.     529.     870.429  562.429\n",
      " 879.     595.857  880.     629.286  880.     662.714  881.     696.143\n",
      " 876.429  729.571  861.     763.     853.667  748.667  844.333  734.333\n",
      " 832.     721.     817.667  708.667  803.333  699.333  789.     691.\n",
      " 797.     660.     800.     629.     789.     598.     773.     567.\n",
      " 759.     536.     728.     509.     697.     488.     669.     466.\n",
      " 657.     435.     649.     404.     634.     373.     624.     342.\n",
      " 613.     311.     607.     283.75   593.5    256.5    568.25   234.\n",
      " 541.     227.     539.     194.667  553.     162.333  570.     130.\n",
      " 600.333   99.6666 632.667   85.     382.     680.     365.     646.4\n",
      " 361.     612.8    363.     579.2    370.4    545.6    386.     512.\n",
      " 417.571  473.429  459.143  446.857  500.714  432.286  542.286  427.\n",
      " 583.857  428.     625.429  442.     667.     469.     706.667  494.\n",
      " 746.333  526.333  774.     565.     793.     604.667  803.     644.333\n",
      " 789.     684.     738.125  703.875  687.25   725.     636.375  742.\n",
      " 585.5    754.     534.625  753.     483.75   741.     432.875  713.875\n",
      " 308.      93.     318.5     99.5    329.     106.     345.714  113.714\n",
      " 362.429  121.     379.143  127.     395.857  131.     412.571  135.571\n",
      " 429.286  139.286  446.     147.     450.     159.75   446.     172.5\n",
      " 441.75   185.     429.     191.     412.     178.     395.     166.\n",
      " 378.     158.     361.     151.     344.     143.     327.     135.\n",
      " 310.     126.     300.     119.     290.     112.     719.      90.\n",
      " 706.      98.     693.     105.     676.286  108.714  659.571  113.\n",
      " 642.857  118.143  626.143  124.857  609.429  130.571  592.714  133.\n",
      " 576.     136.     563.     144.25   558.     157.5    558.     170.75\n",
      " 569.     184.     590.429  175.     611.857  164.     633.286  156.714\n",
      " 654.714  146.     676.143  135.     697.571  124.429  719.     115.\n",
      " 728.5    111.5    738.     108.    ]\n"
     ]
    }
   ],
   "source": [
    "landmarks = np.load(f\"../../HybridGNet/Datasets/JSRT/Train/landmarks/JPCLN002.npy\")\n",
    "print(len(landmarks))\n",
    "print(landmarks.shape)\n",
    "print(landmarks)\n",
    "# landmarks = landmarks.astype('float').reshape(-1, 2)\n",
    "# print(landmarks.shape)\n",
    "# print(landmarks)"
   ]
  },
  {
   "cell_type": "code",
   "execution_count": 95,
   "metadata": {},
   "outputs": [
    {
     "name": "stdout",
     "output_type": "stream",
     "text": [
      "(1024, 1024, 3)\n"
     ]
    }
   ],
   "source": [
    "imagelung = cv2.imread(f\"../../HybridGNet/Datasets/JSRT/Train/Images/JPCLN002.png\")\n",
    "imnplung = np.array(imagelung)\n",
    "print(imnplung.shape)"
   ]
  },
  {
   "cell_type": "code",
   "execution_count": 38,
   "metadata": {},
   "outputs": [
    {
     "name": "stdout",
     "output_type": "stream",
     "text": [
      "(1024, 1024)\n"
     ]
    }
   ],
   "source": [
    "from skimage import io\n",
    "image = io.imread(\"../../HybridGNet/Datasets/JSRT/Train/Images/JPCLN002.png\").astype('float') / 255.0\n",
    "print (image.shape)\n"
   ]
  },
  {
   "cell_type": "code",
   "execution_count": 43,
   "metadata": {},
   "outputs": [
    {
     "name": "stdout",
     "output_type": "stream",
     "text": [
      "(400, 400)\n"
     ]
    }
   ],
   "source": [
    "image = io.imread(\"./data/train/Images/smiley_face0.png\", as_gray= True).astype('float') \n",
    "print (image.shape)"
   ]
  },
  {
   "cell_type": "code",
   "execution_count": null,
   "metadata": {},
   "outputs": [],
   "source": []
  }
 ],
 "metadata": {
  "kernelspec": {
   "display_name": "Python 3",
   "language": "python",
   "name": "python3"
  },
  "language_info": {
   "codemirror_mode": {
    "name": "ipython",
    "version": 3
   },
   "file_extension": ".py",
   "mimetype": "text/x-python",
   "name": "python",
   "nbconvert_exporter": "python",
   "pygments_lexer": "ipython3",
   "version": "3.9.19"
  }
 },
 "nbformat": 4,
 "nbformat_minor": 2
}
